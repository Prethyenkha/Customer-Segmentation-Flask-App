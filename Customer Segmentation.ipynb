{
 "cells": [
  {
   "cell_type": "code",
   "execution_count": 2,
   "id": "b8887aaf",
   "metadata": {},
   "outputs": [],
   "source": [
    "import pandas as pd\n",
    "import numpy as np\n",
    "from sklearn.cluster import KMeans\n",
    "from sklearn.preprocessing import StandardScaler\n",
    "import joblib"
   ]
  },
  {
   "cell_type": "code",
   "execution_count": 3,
   "id": "13b09fda",
   "metadata": {},
   "outputs": [],
   "source": [
    "df = pd.read_excel(\"Online Retail.xlsx\")"
   ]
  },
  {
   "cell_type": "code",
   "execution_count": 4,
   "id": "ad1e857a",
   "metadata": {},
   "outputs": [],
   "source": [
    "df.dropna(subset=['CustomerID'], inplace=True)\n",
    "df = df[df['Quantity'] > 0]\n",
    "df = df[df['UnitPrice'] > 0]\n",
    "df = df[~df['InvoiceNo'].astype(str).str.startswith('C')]"
   ]
  },
  {
   "cell_type": "code",
   "execution_count": 5,
   "id": "092de079",
   "metadata": {},
   "outputs": [],
   "source": [
    "df['TotalPrice'] = df['Quantity'] * df['UnitPrice']\n",
    "customer_df = df.groupby('CustomerID').agg({\n",
    "    'InvoiceNo': 'nunique',\n",
    "    'Quantity': 'sum',\n",
    "    'TotalPrice': 'sum',\n",
    "    'StockCode': 'nunique',\n",
    "    'InvoiceDate': 'max'\n",
    "}).rename(columns={\n",
    "    'InvoiceNo': 'Frequency',\n",
    "    'Quantity': 'TotalQuantity',\n",
    "    'StockCode': 'Variety',\n",
    "    'TotalPrice': 'TotalSpending'\n",
    "})\n",
    "\n",
    "latest_date = df['InvoiceDate'].max()\n",
    "customer_df['Recency'] = (latest_date - customer_df['InvoiceDate']).dt.days\n",
    "customer_df.drop(columns='InvoiceDate', inplace=True)\n"
   ]
  },
  {
   "cell_type": "code",
   "execution_count": 6,
   "id": "9d292e3b",
   "metadata": {},
   "outputs": [],
   "source": [
    "for col in ['Frequency', 'TotalQuantity', 'TotalSpending']:\n",
    "    customer_df[col] = np.log1p(customer_df[col])"
   ]
  },
  {
   "cell_type": "code",
   "execution_count": 7,
   "id": "d10877aa",
   "metadata": {},
   "outputs": [],
   "source": [
    "features = ['Frequency', 'TotalQuantity', 'Variety', 'TotalSpending', 'Recency']\n",
    "scaler = StandardScaler()\n",
    "scaled_features = scaler.fit_transform(customer_df[features])"
   ]
  },
  {
   "cell_type": "code",
   "execution_count": 11,
   "id": "faf0027e",
   "metadata": {},
   "outputs": [
    {
     "name": "stdout",
     "output_type": "stream",
     "text": [
      "Optimal number of clusters: 4\n"
     ]
    }
   ],
   "source": [
    "inertia = []\n",
    "K_range = range(2, 10)\n",
    "for k in K_range:\n",
    "    km = KMeans(n_clusters=k, random_state=42)\n",
    "    km.fit(scaled_features)\n",
    "    inertia.append(km.inertia_)\n",
    "\n",
    "optimal_k = 4  # Default fallback\n",
    "for i in range(1, len(inertia)):\n",
    "    if abs(inertia[i] - inertia[i-1]) < 0.05 * inertia[i-1]:\n",
    "        optimal_k = K_range[i]\n",
    "        break\n",
    "\n",
    "print(f\"Optimal number of clusters: {optimal_k}\")\n"
   ]
  },
  {
   "cell_type": "code",
   "execution_count": 16,
   "id": "32bbe67a",
   "metadata": {},
   "outputs": [],
   "source": [
    "kmeans = KMeans(n_clusters=optimal_k, random_state=42)\n",
    "customer_df['Cluster'] = kmeans.fit_predict(scaled_features)\n"
   ]
  },
  {
   "cell_type": "code",
   "execution_count": 17,
   "id": "73195564",
   "metadata": {},
   "outputs": [
    {
     "data": {
      "text/plain": [
       "['scaler.pkl']"
      ]
     },
     "execution_count": 17,
     "metadata": {},
     "output_type": "execute_result"
    }
   ],
   "source": [
    "joblib.dump(kmeans, \"kmeans_model.pkl\")\n",
    "joblib.dump(scaler, \"scaler.pkl\")\n"
   ]
  },
  {
   "cell_type": "code",
   "execution_count": 19,
   "id": "fce63537",
   "metadata": {},
   "outputs": [],
   "source": [
    "customer_df.to_csv(\"customer_segments.csv\", index=True)\n"
   ]
  },
  {
   "cell_type": "code",
   "execution_count": null,
   "id": "8e2426f9",
   "metadata": {},
   "outputs": [
    {
     "name": "stdout",
     "output_type": "stream",
     "text": [
      "✅ Model and Scaler saved successfully!\n"
     ]
    }
   ],
   "source": [
    "\n",
    "print(\"✅ Model and Scaler saved successfully!\")"
   ]
  }
 ],
 "metadata": {
  "kernelspec": {
   "display_name": "base",
   "language": "python",
   "name": "python3"
  },
  "language_info": {
   "codemirror_mode": {
    "name": "ipython",
    "version": 3
   },
   "file_extension": ".py",
   "mimetype": "text/x-python",
   "name": "python",
   "nbconvert_exporter": "python",
   "pygments_lexer": "ipython3",
   "version": "3.12.4"
  }
 },
 "nbformat": 4,
 "nbformat_minor": 5
}
